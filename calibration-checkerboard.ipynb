{
 "cells": [
  {
   "cell_type": "code",
   "execution_count": 1,
   "metadata": {},
   "outputs": [],
   "source": [
    "import numpy as np\n",
    "import cv2\n",
    "import glob\n",
    "import os"
   ]
  },
  {
   "cell_type": "code",
   "execution_count": 2,
   "metadata": {},
   "outputs": [],
   "source": [
    "from __future__ import print_function\n",
    "from ipywidgets import interact, interactive, fixed, interact_manual\n",
    "import ipywidgets as widgets\n",
    "from IPython.display import Image,display"
   ]
  },
  {
   "cell_type": "code",
   "execution_count": 3,
   "metadata": {},
   "outputs": [
    {
     "data": {
      "application/vnd.jupyter.widget-view+json": {
       "model_id": "dff7e06abd6f4305a18637acdd17871a",
       "version_major": 2,
       "version_minor": 0
      },
      "text/plain": [
       "interactive(children=(Dropdown(description='template', options=('baseball', 'checkerboard'), value='baseball')…"
      ]
     },
     "metadata": {},
     "output_type": "display_data"
    }
   ],
   "source": [
    "# Create widgets\n",
    "directory = widgets.Dropdown(options=['baseball', 'checkerboard'])\n",
    "images = widgets.Dropdown(options=os.listdir('data/'+directory.value))\n",
    "input_img_variable=widgets.Text()\n",
    "\n",
    "# Updates the image options based on directory value\n",
    "def update_images(*args):\n",
    "    images.options = sorted(os.listdir('data/'+directory.value))\n",
    "\n",
    "# Tie the image options to directory value\n",
    "directory.observe(update_images, 'value')\n",
    "\n",
    "# Show the images\n",
    "def select_image(template, file):\n",
    "    display(Image('data/'+template+'/'+file))\n",
    "    f = open('data/'+template+'/'+file, \"rb\")\n",
    "    input_img_variable.value='data/'+template+'/'+file\n",
    "    return\n",
    "\n",
    "_ = interact(select_image, template=directory, file=images)"
   ]
  },
  {
   "cell_type": "code",
   "execution_count": 4,
   "metadata": {},
   "outputs": [],
   "source": [
    "image_path=input_img_variable.value\n",
    "input_img=cv2.imread(image_path)\n",
    "criteria = (cv2.TERM_CRITERIA_EPS + cv2.TERM_CRITERIA_MAX_ITER, 30, 0.001)"
   ]
  },
  {
   "cell_type": "code",
   "execution_count": 5,
   "metadata": {},
   "outputs": [],
   "source": [
    "obj_widget_width = widgets.Text()\n",
    "obj_widget_height = widgets.Text()"
   ]
  },
  {
   "cell_type": "code",
   "execution_count": 6,
   "metadata": {},
   "outputs": [],
   "source": [
    "def inputObjpoints(width,height):\n",
    "    if width.isdigit():\n",
    "        obj_widget_width.value=width\n",
    "        obj_widget_height.value=height\n",
    "    return"
   ]
  },
  {
   "cell_type": "code",
   "execution_count": 7,
   "metadata": {},
   "outputs": [
    {
     "data": {
      "application/vnd.jupyter.widget-view+json": {
       "model_id": "31f932d4df3044f09296e07a1a408ce7",
       "version_major": 2,
       "version_minor": 0
      },
      "text/plain": [
       "interactive(children=(Dropdown(description='width', options=('1', '2', '3', '4', '5', '6'), value='1'), Dropdo…"
      ]
     },
     "metadata": {},
     "output_type": "display_data"
    }
   ],
   "source": [
    "widths=[str(x+1) for x in range(6)]\n",
    "heights=[str(x+1) for x in range(7)]\n",
    "obj_widget=interact(inputObjpoints, width=widths,height=heights);"
   ]
  },
  {
   "cell_type": "code",
   "execution_count": 8,
   "metadata": {},
   "outputs": [],
   "source": [
    "w = int(obj_widget_width.value)\n",
    "h=int(obj_widget_height.value)\n",
    "# prepare object points, like (0,0,0), (1,0,0), (2,0,0) ....,(6,5,0)\n",
    "objp = np.zeros((w*h,3), np.float32)\n",
    "objp[:,:2] = np.mgrid[0:7,0:6].T.reshape(-1,2)"
   ]
  },
  {
   "cell_type": "code",
   "execution_count": 9,
   "metadata": {},
   "outputs": [],
   "source": [
    "def inputImgpoints(img,auto=True):\n",
    "    ret,corners2=False,None\n",
    "    if auto:\n",
    "        gray = cv2.cvtColor(img,cv2.COLOR_BGR2GRAY)\n",
    "    \n",
    "        ret, corners = cv2.findChessboardCorners(gray, (7,6),None)\n",
    "\n",
    "        if ret == True:\n",
    "            corners2 = cv2.cornerSubPix(gray,corners,(11,11),(-1,-1),criteria)\n",
    "    return ret,corners2\n"
   ]
  },
  {
   "cell_type": "code",
   "execution_count": 13,
   "metadata": {},
   "outputs": [],
   "source": [
    "def matchObjImg(img,objp,imgp,auto=True):\n",
    "    objpoints = [] # 3d point in real world space\n",
    "    imgpoints = [] # 2d points in image plane.\n",
    "    if auto:\n",
    "        objpoints.append(objp)\n",
    "        imgpoints.append(imgp)\n",
    "        \n",
    "    # Draw and display the corners\n",
    "    img = cv2.drawChessboardCorners(img, (7,6), imgp,ret)\n",
    "    cv2.imshow('image',img)\n",
    "    cv2.waitKey(2000)\n",
    "\n",
    "    cv2.destroyAllWindows()\n",
    "    return objpoints,imgpoints"
   ]
  },
  {
   "cell_type": "code",
   "execution_count": 11,
   "metadata": {},
   "outputs": [],
   "source": [
    "def calibration(img,objpoints,imgpoints):\n",
    "    gray = cv2.cvtColor(img,cv2.COLOR_BGR2GRAY)\n",
    "    ret, mtx, dist, rvecs, tvecs = cv2.calibrateCamera(objpoints, imgpoints, gray.shape[::-1],None,None)\n",
    "    h,  w = img.shape[:2]\n",
    "    newcameramtx, roi=cv2.getOptimalNewCameraMatrix(mtx,dist,(w,h),1,(w,h))\n",
    "    \n",
    "    dst = cv2.undistort(img, mtx, dist, None, newcameramtx)\n",
    "\n",
    "    # crop the image\n",
    "    x,y,w,h = roi\n",
    "    dst = dst[y:y+h, x:x+w]\n",
    "    cv2.imshow('output',dst) \n",
    "    cv2.waitKey(2000)\n",
    "\n",
    "    cv2.destroyAllWindows()"
   ]
  },
  {
   "cell_type": "code",
   "execution_count": 14,
   "metadata": {},
   "outputs": [],
   "source": [
    "ret,imgp=inputImgpoints(input_img)\n",
    "if ret:\n",
    "    objpoints,imgpoints=matchObjImg(input_img,objp,imgp)\n",
    "    output_img=calibration(input_img,objpoints,imgpoints)"
   ]
  }
 ],
 "metadata": {
  "kernelspec": {
   "display_name": "Python 3",
   "language": "python",
   "name": "python3"
  },
  "language_info": {
   "codemirror_mode": {
    "name": "ipython",
    "version": 3
   },
   "file_extension": ".py",
   "mimetype": "text/x-python",
   "name": "python",
   "nbconvert_exporter": "python",
   "pygments_lexer": "ipython3",
   "version": "3.6.1"
  }
 },
 "nbformat": 4,
 "nbformat_minor": 2
}
